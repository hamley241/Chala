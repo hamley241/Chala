{
 "cells": [
  {
   "cell_type": "code",
   "execution_count": 33,
   "metadata": {},
   "outputs": [],
   "source": [
    "import pandas as pd\n",
    "\n",
    "#function to read Data\n",
    "def read_data():\n",
    "    data = pd.read_csv('associationruletestdata.txt', sep=\"\\t\", header=None)\n",
    "    data = pd.get_dummies(data)\n",
    "    data.to_csv(r'data.csv', index=False)\n",
    "    return data"
   ]
  },
  {
   "cell_type": "code",
   "execution_count": 183,
   "metadata": {},
   "outputs": [],
   "source": [
    "# Generates nonempty subsets\n",
    "def permutation(itemset):\n",
    "    if len(itemset) == 0:\n",
    "        return\n",
    "    temp_string = ''\n",
    "    nonempty_set_dict[temp_string.join(itemset)] = itemset\n",
    "    for i in range(len(itemset)):\n",
    "        permutation(itemset[i+1:] + itemset[:i])\n",
    "\n",
    "# Calculates confidence for a rule\n",
    "def confidence(head, body, data):\n",
    "    for i in head:\n",
    "        data = data[data[i]==1]\n",
    "    denom = data.shape[0]\n",
    "    for i in body:\n",
    "        data = data[data[i]==1]\n",
    "    num = data.shape[0]\n",
    "    return num/denom*100\n",
    "    \n",
    "# Generates rule from nonempty subsets\n",
    "def generate_rule(nonempty_set, itemset):\n",
    "    global count\n",
    "    for i in nonempty_set:\n",
    "        body = list(set(itemset) - set(i))\n",
    "        if confidence(i, body, data) >= 70:\n",
    "            rule_head.loc[count]=0\n",
    "            rule_head.loc[count,'Head']=str(i)\n",
    "            rule_head.loc[count,'Size']=len(i)\n",
    "            rule_body.loc[count]= 0\n",
    "            rule_body.loc[count,'Body']=str(body)\n",
    "            rule_body.loc[count,'Size']=len(body)\n",
    "            for j in i:\n",
    "                rule_head.loc[count,j]=1\n",
    "            for j in body:\n",
    "                rule_body.loc[count,j]=1\n",
    "            count+=1"
   ]
  },
  {
   "cell_type": "code",
   "execution_count": 243,
   "metadata": {},
   "outputs": [
    {
     "name": "stdout",
     "output_type": "stream",
     "text": [
      "Generating rules for: ['0_Down', '4_Up', '1_Down', '3_Down']\n",
      "---------------------------------------------------------------------------------\n",
      "Generating rules for: ['0_Down', '4_Up', '3_Down']\n",
      "---------------------------------------------------------------------------------\n",
      "Generating rules for: ['0_Down', '4_Up', '1_Down', '3_Down']\n",
      "---------------------------------------------------------------------------------\n"
     ]
    }
   ],
   "source": [
    "# frequent itemset with support greater than 50%\n",
    "itemset =  [['0_Down','4_Up','1_Down', '3_Down'],['0_Down','4_Up', '3_Down'],['0_Down','4_Up','1_Down', '3_Down']]\n",
    "\n",
    "# reading data from txt file\n",
    "data = read_data()\n",
    "count=0\n",
    "#Head of the rule\n",
    "rule_head = pd.DataFrame(columns = data.columns)     #add another column\n",
    "rule_head['Head']=0\n",
    "rule_head['Size']=0\n",
    "\n",
    "#Body of the Rule\n",
    "rule_body = pd.DataFrame(columns = data.columns)     #add another column\n",
    "rule_body['Body']=0\n",
    "rule_body['Size']=0\n",
    "\n",
    "for i in itemset:\n",
    "    nonempty_set_dict = {}    \n",
    "    permutation(i)\n",
    "    nonempty_set = list(nonempty_set_dict.values())[1:]\n",
    "    generate_rule(nonempty_set, i)\n",
    "    print(\"Generating rules for:\", i)\n",
    "    print('---------------------------------------------------------------------------------')"
   ]
  },
  {
   "cell_type": "code",
   "execution_count": 242,
   "metadata": {},
   "outputs": [
    {
     "data": {
      "text/plain": [
       "2"
      ]
     },
     "execution_count": 242,
     "metadata": {},
     "output_type": "execute_result"
    }
   ],
   "source": [
    "def template_1(rule_type,quantifier,itemset):\n",
    "    if rule_type == \"HEAD\":\n",
    "        temp = rule_head[itemset]\n",
    "    elif rule_type == \"BODY\":\n",
    "        temp = rule_body[itemset]\n",
    "    else:\n",
    "        temp = pd.DataFrame(rule_head[itemset] + rule_body[itemset])\n",
    "        \n",
    "    temp_df = pd.DataFrame(temp.sum(axis = 1))\n",
    "    try:\n",
    "        if quantifier == \"ANY\":\n",
    "            return temp_df[temp_df[0]>0].shape[0]\n",
    "        elif quantifier == \"NONE\":\n",
    "            return temp_df[temp_df[0]==0].shape[0]\n",
    "        else:\n",
    "            return temp_df[temp_df[0]==int(quantifier)].shape[0]\n",
    "    except:\n",
    "        print(\"Check your input, you Dumb person. your input was:  \\\"\", rule_type, quantifier, itemset,'\"')\n",
    "        \n",
    "template_1(\"HEAD\",\"1\",['3_Down', '9_Down'])"
   ]
  },
  {
   "cell_type": "code",
   "execution_count": 244,
   "metadata": {},
   "outputs": [],
   "source": [
    "def template_2(rule_type,size):\n",
    "    if rule_type == \"HEAD\":\n",
    "        return rule_head[rule_head['Size']>=size].shape[0]\n",
    "    elif rule_type == \"BODY\":\n",
    "        return rule_body[rule_body['Size']>=size].shape[0]\n",
    "    else:\n",
    "        rule_size = pd.DataFrame(rule_head['Size']+rule_body['Size'])\n",
    "        return rule_size[rule_size['Size']>=size].shape[0]    "
   ]
  },
  {
   "cell_type": "code",
   "execution_count": 247,
   "metadata": {},
   "outputs": [],
   "source": [
    "def template_3(c,quantifier,itemset):\n",
    "    return"
   ]
  },
  {
   "cell_type": "code",
   "execution_count": 248,
   "metadata": {},
   "outputs": [
    {
     "name": "stdout",
     "output_type": "stream",
     "text": [
      "2\n"
     ]
    }
   ],
   "source": [
    "print(template_2(\"RULE\",1))"
   ]
  },
  {
   "cell_type": "code",
   "execution_count": null,
   "metadata": {},
   "outputs": [],
   "source": []
  }
 ],
 "metadata": {
  "kernelspec": {
   "display_name": "Python 3",
   "language": "python",
   "name": "python3"
  },
  "language_info": {
   "codemirror_mode": {
    "name": "ipython",
    "version": 3
   },
   "file_extension": ".py",
   "mimetype": "text/x-python",
   "name": "python",
   "nbconvert_exporter": "python",
   "pygments_lexer": "ipython3",
   "version": "3.7.3"
  }
 },
 "nbformat": 4,
 "nbformat_minor": 2
}
