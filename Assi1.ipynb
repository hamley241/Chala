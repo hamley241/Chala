{
 "cells": [
  {
   "cell_type": "code",
   "execution_count": 5,
   "metadata": {},
   "outputs": [],
   "source": [
    "import pandas as pd\n",
    "\n",
    "#function to read Data\n",
    "def read_data():\n",
    "    data = pd.read_csv('ip.txt', sep=\"\\t\", header=None)\n",
    "    data = pd.get_dummies(data)\n",
    "    data.to_csv(r'data.csv', index=False)\n",
    "    return data"
   ]
  },
  {
   "cell_type": "code",
   "execution_count": 49,
   "metadata": {},
   "outputs": [],
   "source": [
    "# Generates nonempty subsets\n",
    "def permutation(itemset):\n",
    "    if len(itemset) == 0:\n",
    "        return\n",
    "    temp_string = ''\n",
    "    nonempty_set_dict[temp_string.join(itemset)] = itemset\n",
    "    for i in range(len(itemset)):\n",
    "        permutation(itemset[i+1:] + itemset[:i])\n",
    "\n",
    "# Calculates confidence for a rule\n",
    "def confidence(head, body, data):\n",
    "    for i in head:\n",
    "        data = data[data[i]==1]\n",
    "    denom = data.shape[0]\n",
    "    for i in body:\n",
    "        data = data[data[i]==1]\n",
    "    num = data.shape[0]\n",
    "    return num/denom*100\n",
    "    \n",
    "# Generates rule from nonempty subsets\n",
    "def generate_rule(nonempty_set, itemset):\n",
    "    for i in nonempty_set:\n",
    "        body = list(set(itemset) - set(i))\n",
    "        if confidence(i, body, data) >= 70:\n",
    "            row = pd.DataFrame(head.columns)\n",
    "            head.append([0]*204)\n"
   ]
  },
  {
   "cell_type": "code",
   "execution_count": 52,
   "metadata": {},
   "outputs": [
    {
     "name": "stdout",
     "output_type": "stream",
     "text": [
      "Empty DataFrame\n",
      "Columns: [0_Down, 0_Up, 1_Down, 1_Up, 2_Down, 2_Up, 3_Down, 3_Up, 4_Down, 4_Up, 5_Down, 5_Up, 6_Down, 6_Up, 7_Down, 7_Up, 8_Down, 8_Up, 9_Down, 9_Up, 10_Down, 10_Up, 11_Down, 11_Up, 12_Down, 12_Up, 13_Down, 13_Up, 14_Down, 14_Up, 15_Down, 15_Up, 16_Down, 16_Up, 17_Down, 17_Up, 18_Down, 18_Up, 19_Down, 19_Up, 20_Down, 20_Up, 21_Down, 21_Up, 22_Down, 22_Up, 23_Down, 23_Up, 24_Down, 24_Up, 25_Down, 25_Up, 26_Down, 26_Up, 27_Down, 27_Up, 28_Down, 28_Up, 29_Down, 29_Up, 30_Down, 30_Up, 31_Down, 31_Up, 32_Down, 32_Up, 33_Down, 33_Up, 34_Down, 34_Up, 35_Down, 35_Up, 36_Down, 36_Up, 37_Down, 37_Up, 38_Down, 38_Up, 39_Down, 39_Up, 40_Down, 40_Up, 41_Down, 41_Up, 42_Down, 42_Up, 43_Down, 43_Up, 44_Down, 44_Up, 45_Down, 45_Up, 46_Down, 46_Up, 47_Down, 47_Up, 48_Down, 48_Up, 49_Down, 49_Up, ...]\n",
      "Index: []\n",
      "\n",
      "[0 rows x 204 columns]\n",
      "---------------------------------------------------------------------------------\n",
      "Empty DataFrame\n",
      "Columns: [0_Down, 0_Up, 1_Down, 1_Up, 2_Down, 2_Up, 3_Down, 3_Up, 4_Down, 4_Up, 5_Down, 5_Up, 6_Down, 6_Up, 7_Down, 7_Up, 8_Down, 8_Up, 9_Down, 9_Up, 10_Down, 10_Up, 11_Down, 11_Up, 12_Down, 12_Up, 13_Down, 13_Up, 14_Down, 14_Up, 15_Down, 15_Up, 16_Down, 16_Up, 17_Down, 17_Up, 18_Down, 18_Up, 19_Down, 19_Up, 20_Down, 20_Up, 21_Down, 21_Up, 22_Down, 22_Up, 23_Down, 23_Up, 24_Down, 24_Up, 25_Down, 25_Up, 26_Down, 26_Up, 27_Down, 27_Up, 28_Down, 28_Up, 29_Down, 29_Up, 30_Down, 30_Up, 31_Down, 31_Up, 32_Down, 32_Up, 33_Down, 33_Up, 34_Down, 34_Up, 35_Down, 35_Up, 36_Down, 36_Up, 37_Down, 37_Up, 38_Down, 38_Up, 39_Down, 39_Up, 40_Down, 40_Up, 41_Down, 41_Up, 42_Down, 42_Up, 43_Down, 43_Up, 44_Down, 44_Up, 45_Down, 45_Up, 46_Down, 46_Up, 47_Down, 47_Up, 48_Down, 48_Up, 49_Down, 49_Up, ...]\n",
      "Index: []\n",
      "\n",
      "[0 rows x 204 columns]\n"
     ]
    }
   ],
   "source": [
    "# frequent itemset with support greater than 50%\n",
    "itemset =  [['0_Down','4_Up','1_Down', '3_Down']]\n",
    "\n",
    "# reading data from txt file\n",
    "data = read_data()\n",
    "body = pd.DataFrame(columns = data.columns)\n",
    "head = pd.DataFrame(columns = data.columns)\n",
    "print(head)\n",
    "for i in itemset:\n",
    "    nonempty_set_dict = {}    \n",
    "    permutation(i)\n",
    "    nonempty_set = list(nonempty_set_dict.values())[1:]\n",
    "    generate_rule(nonempty_set, i)\n",
    "    print('---------------------------------------------------------------------------------')\n",
    "head.append([0]*204)\n",
    "print(head)"
   ]
  },
  {
   "cell_type": "code",
   "execution_count": null,
   "metadata": {},
   "outputs": [],
   "source": []
  },
  {
   "cell_type": "code",
   "execution_count": null,
   "metadata": {},
   "outputs": [],
   "source": []
  }
 ],
 "metadata": {
  "kernelspec": {
   "display_name": "Python 3",
   "language": "python",
   "name": "python3"
  },
  "language_info": {
   "codemirror_mode": {
    "name": "ipython",
    "version": 3
   },
   "file_extension": ".py",
   "mimetype": "text/x-python",
   "name": "python",
   "nbconvert_exporter": "python",
   "pygments_lexer": "ipython3",
   "version": "3.7.2"
  }
 },
 "nbformat": 4,
 "nbformat_minor": 4
}
