{
 "cells": [
  {
   "cell_type": "code",
   "execution_count": 34,
   "metadata": {},
   "outputs": [],
   "source": [
    "import pandas as pd\n",
    "\n",
    "def read_data():\n",
    "    data = pd.read_csv('ip.txt', sep=\"\\t\", header=None)\n",
    "    data = pd.get_dummies(data)\n",
    "    data.to_csv(r'data.csv', index=False)\n",
    "    return data"
   ]
  },
  {
   "cell_type": "code",
   "execution_count": 164,
   "metadata": {},
   "outputs": [],
   "source": [
    "def permutation(itemset):\n",
    "    if len(itemset) == 0:\n",
    "        return\n",
    "    temp_string = ''\n",
    "    nonempty_set_dict[temp_string.join(itemset)] = itemset\n",
    "    for i in range(len(itemset)):\n",
    "        permutation(itemset[i+1:] + itemset[:i])\n",
    "\n",
    "def confidence(head, body, data):\n",
    "    for i in head:\n",
    "        data = data[data[i]==1]\n",
    "    denom = data.shape[0]\n",
    "    \n",
    "    for i in body:\n",
    "        data = data[data[i]==1]\n",
    "    num = data.shape[0]\n",
    "    print(num/denom*100)\n",
    "    return num/denom*100\n",
    "    \n",
    "def generate_rule(nonempty_set, itemset):\n",
    "    for i in nonempty_set:\n",
    "        body = list(set(itemset) - set(i))\n",
    "        head = i\n",
    "        if confidence(head, body, data) >= 70:\n",
    "            print(head, '=>', body)\n",
    "        "
   ]
  },
  {
   "cell_type": "code",
   "execution_count": 165,
   "metadata": {},
   "outputs": [
    {
     "name": "stdout",
     "output_type": "stream",
     "text": [
      "30.0\n",
      "18.181818181818183\n",
      "12.0\n",
      "9.090909090909092\n",
      "22.22222222222222\n",
      "11.11111111111111\n",
      "16.666666666666664\n",
      "54.54545454545454\n",
      "35.294117647058826\n",
      "19.35483870967742\n",
      "30.0\n",
      "75.0\n",
      "['3_Down', '0_Down', '4_Up'] => ['1_Down']\n",
      "37.5\n",
      "22.22222222222222\n",
      "46.15384615384615\n",
      "30.0\n",
      "---------------------------------------------------------------------------------\n"
     ]
    }
   ],
   "source": [
    "itemset =  [['0_Down','4_Up','1_Down', '3_Down']]\n",
    "# itemset =  [['0','1','2','4'],['2','5'], ['5','8','7']]\n",
    "for i in itemset:\n",
    "    nonempty_set_dict = {}    \n",
    "    permutation(i)\n",
    "    nonempty_set = list(nonempty_set_dict.values())[1:]\n",
    "    generate_rule(nonempty_set, i)\n",
    "    \n",
    "    print('---------------------------------------------------------------------------------')"
   ]
  },
  {
   "cell_type": "code",
   "execution_count": null,
   "metadata": {},
   "outputs": [],
   "source": []
  }
 ],
 "metadata": {
  "kernelspec": {
   "display_name": "Python 3",
   "language": "python",
   "name": "python3"
  },
  "language_info": {
   "codemirror_mode": {
    "name": "ipython",
    "version": 3
   },
   "file_extension": ".py",
   "mimetype": "text/x-python",
   "name": "python",
   "nbconvert_exporter": "python",
   "pygments_lexer": "ipython3",
   "version": "3.7.2"
  }
 },
 "nbformat": 4,
 "nbformat_minor": 4
}
