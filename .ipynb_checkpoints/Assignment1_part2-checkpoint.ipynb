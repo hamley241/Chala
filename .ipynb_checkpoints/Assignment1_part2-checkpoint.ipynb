{
 "cells": [
  {
   "cell_type": "code",
   "execution_count": 5,
   "metadata": {},
   "outputs": [],
   "source": [
    "import pandas as pd\n",
    "\n",
    "#function to read Data\n",
    "def read_data():\n",
    "    data = pd.read_csv('ip.txt', sep=\"\\t\", header=None)\n",
    "    data = pd.get_dummies(data)\n",
    "    data.to_csv(r'data.csv', index=False)\n",
    "    return data"
   ]
  },
  {
   "cell_type": "code",
   "execution_count": 6,
   "metadata": {},
   "outputs": [],
   "source": [
    "# Generates nonempty subsets\n",
    "def permutation(itemset):\n",
    "    if len(itemset) == 0:\n",
    "        return\n",
    "    temp_string = ''\n",
    "    nonempty_set_dict[temp_string.join(itemset)] = itemset\n",
    "    for i in range(len(itemset)):\n",
    "        permutation(itemset[i+1:] + itemset[:i])\n",
    "\n",
    "# Calculates confidence for a rule\n",
    "def confidence(head, body, data):\n",
    "    for i in head:\n",
    "        data = data[data[i]==1]\n",
    "    denom = data.shape[0]\n",
    "    for i in body:\n",
    "        data = data[data[i]==1]\n",
    "    num = data.shape[0]\n",
    "    return num/denom*100\n",
    "    \n",
    "# Generates rule from nonempty subsets\n",
    "def generate_rule(nonempty_set, itemset):\n",
    "    global count\n",
    "    for i in nonempty_set:\n",
    "        body = list(set(itemset) - set(i))\n",
    "        if confidence(i, body, data) >= 70:\n",
    "            rule_head.loc[count]=0\n",
    "            rule_head.loc[count,'Head']=str(i)\n",
    "            rule_head.loc[count,'Size']=len(i)\n",
    "            rule_body.loc[count]= 0\n",
    "            rule_body.loc[count,'Body']=str(body)\n",
    "            rule_body.loc[count,'Size']=len(body)\n",
    "            for j in i:\n",
    "                rule_head.loc[count,j]=1\n",
    "            for j in body:\n",
    "                rule_body.loc[count,j]=1\n",
    "            count+=1"
   ]
  },
  {
   "cell_type": "code",
   "execution_count": 7,
   "metadata": {},
   "outputs": [
    {
     "name": "stdout",
     "output_type": "stream",
     "text": [
      "Generating rules for: ['0_Down', '4_Up', '1_Down', '3_Down']\n",
      "---------------------------------------------------------------------------------\n",
      "Generating rules for: ['0_Down', '4_Up', '3_Down']\n",
      "---------------------------------------------------------------------------------\n",
      "Generating rules for: ['0_Down', '4_Up', '1_Down', '3_Down']\n",
      "---------------------------------------------------------------------------------\n"
     ]
    }
   ],
   "source": [
    "# frequent itemset with support greater than 50%\n",
    "itemset =  [['0_Down','4_Up','1_Down', '3_Down'],['0_Down','4_Up', '3_Down'],['0_Down','4_Up','1_Down', '3_Down']]\n",
    "\n",
    "# reading data from txt file\n",
    "data = read_data()\n",
    "count=0\n",
    "#Head of the rule\n",
    "rule_head = pd.DataFrame(columns = data.columns)     #add another column\n",
    "rule_head['Head']=0\n",
    "rule_head['Size']=0\n",
    "\n",
    "#Body of the Rule\n",
    "rule_body = pd.DataFrame(columns = data.columns)     #add another column\n",
    "rule_body['Body']=0\n",
    "rule_body['Size']=0\n",
    "\n",
    "for i in itemset:\n",
    "    nonempty_set_dict = {}    \n",
    "    permutation(i)\n",
    "    nonempty_set = list(nonempty_set_dict.values())[1:]\n",
    "    generate_rule(nonempty_set, i)\n",
    "    print(\"Generating rules for:\", i)\n",
    "    print('---------------------------------------------------------------------------------')"
   ]
  },
  {
   "cell_type": "code",
   "execution_count": 18,
   "metadata": {},
   "outputs": [
    {
     "data": {
      "text/plain": [
       "2"
      ]
     },
     "execution_count": 18,
     "metadata": {},
     "output_type": "execute_result"
    }
   ],
   "source": [
    "def template_1(rule_type,quantifier,itemset):\n",
    "    if rule_type == \"HEAD\":\n",
    "        temp = rule_head[itemset]\n",
    "    elif rule_type == \"BODY\":\n",
    "        temp = rule_body[itemset]\n",
    "    else:\n",
    "        temp = pd.DataFrame(rule_head[itemset] + rule_body[itemset])\n",
    "        \n",
    "    temp_df = pd.DataFrame(temp.sum(axis = 1))\n",
    "    try:\n",
    "        if quantifier == \"ANY\":\n",
    "            return temp_df[0]>0\n",
    "        elif quantifier == \"NONE\":\n",
    "            return temp_df[0]==0\n",
    "        else:\n",
    "            return temp_df[0]==int(quantifier)\n",
    "    except:\n",
    "        print(\"Check your input, you Dumb person. your input was:  \\\"\", rule_type, quantifier, itemset,'\"')\n",
    "        \n",
    "template_1(\"HEAD\",\"1\",['3_Down', '9_Down']).shape[0]"
   ]
  },
  {
   "cell_type": "code",
   "execution_count": 24,
   "metadata": {},
   "outputs": [
    {
     "name": "stdout",
     "output_type": "stream",
     "text": [
      "2\n"
     ]
    }
   ],
   "source": [
    "def template_2(rule_type,size):\n",
    "    if rule_type == \"HEAD\":\n",
    "        return rule_head['Size']>=size\n",
    "    elif rule_type == \"BODY\":\n",
    "        return rule_body['Size']>=size\n",
    "    else:\n",
    "        rule_size = pd.DataFrame(rule_head['Size']+rule_body['Size'])\n",
    "        return rule_size['Size']>=size\n",
    "print(template_2(\"RULE\",1).shape[0])"
   ]
  },
  {
   "cell_type": "code",
   "execution_count": 66,
   "metadata": {},
   "outputs": [
    {
     "data": {
      "text/html": [
       "<div>\n",
       "<style scoped>\n",
       "    .dataframe tbody tr th:only-of-type {\n",
       "        vertical-align: middle;\n",
       "    }\n",
       "\n",
       "    .dataframe tbody tr th {\n",
       "        vertical-align: top;\n",
       "    }\n",
       "\n",
       "    .dataframe thead th {\n",
       "        text-align: right;\n",
       "    }\n",
       "</style>\n",
       "<table border=\"1\" class=\"dataframe\">\n",
       "  <thead>\n",
       "    <tr style=\"text-align: right;\">\n",
       "      <th></th>\n",
       "      <th>0</th>\n",
       "    </tr>\n",
       "  </thead>\n",
       "  <tbody>\n",
       "    <tr>\n",
       "      <th>0</th>\n",
       "      <td>False</td>\n",
       "    </tr>\n",
       "    <tr>\n",
       "      <th>1</th>\n",
       "      <td>False</td>\n",
       "    </tr>\n",
       "  </tbody>\n",
       "</table>\n",
       "</div>"
      ],
      "text/plain": [
       "       0\n",
       "0  False\n",
       "1  False"
      ]
     },
     "execution_count": 66,
     "metadata": {},
     "output_type": "execute_result"
    }
   ],
   "source": [
    "def template_3(query_type,rule_type1,quantifier1,itemset1=[],rule_type2='',quantifier2='',itemset2=[]):\n",
    "    q1 = int(query_type[0])\n",
    "    q2 = int(query_type[-1])\n",
    "    operation = query_type[1:-1]\n",
    "    \n",
    "    if q1 == 1:\n",
    "        output1 = template_1(rule_type1,quantifier1,itemset1)\n",
    "    else:\n",
    "        output1 = template_2(rule_type1, int(quantifier1))\n",
    "    if q2 == 1:\n",
    "        output2 = template_1(rule_type2,quantifier2,itemset2)\n",
    "    else:\n",
    "        output2 = template_2(rule_type2, int(quantifier2))\n",
    "    \n",
    "    output1 = output1.to_frame()\n",
    "    output1['1'] = output2\n",
    "    if operation == \"or\":\n",
    "        op = pd.DataFrame(output1.any(axis = 1))\n",
    "        return op\n",
    "    else:\n",
    "        op = pd.DataFrame(output1.all(axis = 1))\n",
    "        return op\n",
    "        \n",
    "template_3(\"1and1\",\"HEAD\",\"1\",['3_Down', '9_Down'], \"HEAD\",\"1\",['3_Down', '9_Down'])"
   ]
  },
  {
   "cell_type": "code",
   "execution_count": null,
   "metadata": {},
   "outputs": [],
   "source": []
  }
 ],
 "metadata": {
  "kernelspec": {
   "display_name": "Python 3",
   "language": "python",
   "name": "python3"
  },
  "language_info": {
   "codemirror_mode": {
    "name": "ipython",
    "version": 3
   },
   "file_extension": ".py",
   "mimetype": "text/x-python",
   "name": "python",
   "nbconvert_exporter": "python",
   "pygments_lexer": "ipython3",
   "version": "3.7.3"
  }
 },
 "nbformat": 4,
 "nbformat_minor": 2
}
